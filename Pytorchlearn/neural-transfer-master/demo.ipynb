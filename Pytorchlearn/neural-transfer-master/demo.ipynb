{
 "cells": [
  {
   "cell_type": "markdown",
   "metadata": {},
   "source": [
    "from torch.autograd import Variable\n",
    "from torchvision import transforms\n",
    "from run_code import run_style_transfer\n",
    "from load_img import load_img, show_img\n",
    "from torch.autograd import Variable\n",
    "\n",
    "style_img = load_img('./picture/style.png')\n",
    "style_img = Variable(style_img)\n",
    "content_img = load_img('./picture/content.png')\n",
    "content_img = Variable(content_img)\n",
    "\n",
    "input_img = content_img.clone()\n",
    "\n",
    "out = run_style_transfer(content_img, style_img, input_img, num_epoches=200)\n",
    "\n",
    "show_img(out.cpu())"
   ]
  },
  {
   "cell_type": "code",
   "execution_count": null,
   "metadata": {},
   "outputs": [],
   "source": [
    "save_pic = transforms.ToPILImage()(out.cpu().squeeze(0))"
   ]
  },
  {
   "cell_type": "code",
   "execution_count": null,
   "metadata": {},
   "outputs": [],
   "source": [
    "save_pic"
   ]
  },
  {
   "cell_type": "code",
   "execution_count": null,
   "metadata": {
    "collapsed": true
   },
   "outputs": [],
   "source": [
    "save_pic.save('./picture/saved_picture.png')"
   ]
  }
 ],
 "metadata": {
  "anaconda-cloud": {},
  "kernelspec": {
   "display_name": "Python 3",
   "language": "python",
   "name": "python3"
  },
  "language_info": {
   "codemirror_mode": {
    "name": "ipython",
    "version": 3
   },
   "file_extension": ".py",
   "mimetype": "text/x-python",
   "name": "python",
   "nbconvert_exporter": "python",
   "pygments_lexer": "ipython3",
   "version": "3.6.1"
  }
 },
 "nbformat": 4,
 "nbformat_minor": 1
}
