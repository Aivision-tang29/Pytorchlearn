{
 "cells": [
  {
   "cell_type": "code",
   "execution_count": 1,
   "metadata": {
    "collapsed": true
   },
   "outputs": [],
   "source": [
    "import sys\n",
    "sys.path.append('..')\n",
    "\n",
    "import torch\n",
    "from torch.autograd import Variable\n",
    "from torch import nn\n",
    "from torch.utils.data import DataLoader\n",
    "\n",
    "from torchvision import transforms as tfs\n",
    "from torchvision.datasets import MNIST"
   ]
  },
  {
   "cell_type": "code",
   "execution_count": 2,
   "metadata": {
    "collapsed": true
   },
   "outputs": [],
   "source": [
    "# 定义数据\n",
    "data_tf = tfs.Compose([\n",
    "    tfs.ToTensor(),\n",
    "    tfs.Normalize([0.5], [0.5]) # 标准化\n",
    "])\n",
    "\n",
    "train_set = MNIST('./data', train=True, transform=data_tf)\n",
    "test_set = MNIST('./data', train=False, transform=data_tf)\n",
    "\n",
    "train_data = DataLoader(train_set, 64, True, num_workers=2)\n",
    "test_data = DataLoader(test_set, 128, False, num_workers=2)"
   ]
  },
  {
   "cell_type": "code",
   "execution_count": 3,
   "metadata": {
    "collapsed": true
   },
   "outputs": [],
   "source": [
    "class rnn_classify(nn.Module):\n",
    "    def __init__(self,in_feature=28,hidden_feature=100,num_class=10,num_layers=2):\n",
    "        super(rnn_classify,self).__init__()\n",
    "        self.rnn=nn.LSTM(in_feature,hidden_feature,num_layers)\n",
    "        self.classifier=nn.Linear(hidden_feature,num_class)\n",
    "        \n",
    "    def forward(self,x):\n",
    "        x=x.squeeze()\n",
    "        x=x.permute(2,0,1)\n",
    "        out,_=self.rnn(x)\n",
    "        out=out[-1,:,:]\n",
    "        out=self.classifier(out)\n",
    "        return out"
   ]
  },
  {
   "cell_type": "code",
   "execution_count": 4,
   "metadata": {
    "collapsed": true
   },
   "outputs": [],
   "source": [
    "net = rnn_classify()\n",
    "criterion = nn.CrossEntropyLoss()\n",
    "\n",
    "optimzier = torch.optim.Adadelta(net.parameters(), 1e-1)"
   ]
  },
  {
   "cell_type": "code",
   "execution_count": 5,
   "metadata": {},
   "outputs": [
    {
     "name": "stderr",
     "output_type": "stream",
     "text": [
      "C:\\Users\\TEMP\\Desktop\\Pytorch\\utils.py:58: UserWarning: volatile was removed and now has no effect. Use `with torch.no_grad():` instead.\n",
      "  im = Variable(im, volatile=True)\n",
      "C:\\Users\\TEMP\\Desktop\\Pytorch\\utils.py:59: UserWarning: volatile was removed and now has no effect. Use `with torch.no_grad():` instead.\n",
      "  label = Variable(label, volatile=True)\n"
     ]
    },
    {
     "name": "stdout",
     "output_type": "stream",
     "text": [
      "Epoch 0. Train Loss: 1.948439, Train Acc: 0.290262, Valid Loss: 0.857291, Valid Acc: 0.724881, Time 00:02:29\n",
      "Epoch 1. Train Loss: 0.470177, Train Acc: 0.856527, Valid Loss: 0.266638, Valid Acc: 0.923358, Time 00:02:19\n",
      "Epoch 2. Train Loss: 0.226393, Train Acc: 0.933136, Valid Loss: 0.179032, Valid Acc: 0.946796, Time 00:02:16\n",
      "Epoch 3. Train Loss: 0.157488, Train Acc: 0.952792, Valid Loss: 0.142935, Valid Acc: 0.958762, Time 00:02:13\n",
      "Epoch 4. Train Loss: 0.125529, Train Acc: 0.962487, Valid Loss: 0.109596, Valid Acc: 0.969244, Time 00:02:14\n",
      "Epoch 5. Train Loss: 0.103409, Train Acc: 0.969100, Valid Loss: 0.101828, Valid Acc: 0.969541, Time 00:02:15\n",
      "Epoch 6. Train Loss: 0.088943, Train Acc: 0.973281, Valid Loss: 0.090924, Valid Acc: 0.973695, Time 00:02:12\n",
      "Epoch 7. Train Loss: 0.077128, Train Acc: 0.976846, Valid Loss: 0.092427, Valid Acc: 0.973101, Time 00:02:13\n",
      "Epoch 8. Train Loss: 0.069238, Train Acc: 0.979394, Valid Loss: 0.091495, Valid Acc: 0.973695, Time 00:02:12\n",
      "Epoch 9. Train Loss: 0.062275, Train Acc: 0.981343, Valid Loss: 0.072168, Valid Acc: 0.979430, Time 00:02:13\n"
     ]
    }
   ],
   "source": [
    "# 开始训练\n",
    "from utils import train\n",
    "train(net, train_data, test_data, 10, optimzier, criterion)"
   ]
  },
  {
   "cell_type": "code",
   "execution_count": null,
   "metadata": {
    "collapsed": true
   },
   "outputs": [],
   "source": []
  }
 ],
 "metadata": {
  "kernelspec": {
   "display_name": "Python 3",
   "language": "python",
   "name": "python3"
  },
  "language_info": {
   "codemirror_mode": {
    "name": "ipython",
    "version": 3
   },
   "file_extension": ".py",
   "mimetype": "text/x-python",
   "name": "python",
   "nbconvert_exporter": "python",
   "pygments_lexer": "ipython3",
   "version": "3.6.1"
  }
 },
 "nbformat": 4,
 "nbformat_minor": 2
}
