{
 "cells": [
  {
   "cell_type": "code",
   "execution_count": 2,
   "metadata": {},
   "outputs": [
    {
     "data": {
      "text/plain": [
       "<torch._C.Generator at 0x2b0f1a1cf70>"
      ]
     },
     "execution_count": 2,
     "metadata": {},
     "output_type": "execute_result"
    }
   ],
   "source": [
    "import torch\n",
    "import numpy as np\n",
    "from torch.autograd import Variable\n",
    "\n",
    "torch.manual_seed(2019)"
   ]
  },
  {
   "cell_type": "code",
   "execution_count": 3,
   "metadata": {
    "collapsed": true
   },
   "outputs": [],
   "source": [
    "x_train = np.array([[3.3], [4.4], [5.5], [6.71], [6.93], [4.168],\n",
    "                    [9.779], [6.182], [7.59], [2.167], [7.042],\n",
    "                    [10.791], [5.313], [7.997], [3.1]], dtype=np.float32)\n",
    "\n",
    "y_train = np.array([[1.7], [2.76], [2.09], [3.19], [1.694], [1.573],\n",
    "                    [3.366], [2.596], [2.53], [1.221], [2.827],\n",
    "                    [3.465], [1.65], [2.904], [1.3]], dtype=np.float32)"
   ]
  },
  {
   "cell_type": "code",
   "execution_count": 4,
   "metadata": {},
   "outputs": [
    {
     "data": {
      "text/plain": [
       "[<matplotlib.lines.Line2D at 0x2b0f31edba8>]"
      ]
     },
     "execution_count": 4,
     "metadata": {},
     "output_type": "execute_result"
    },
    {
     "data": {
      "image/png": "[encoded data removed]",
      "text/plain": [
       "<matplotlib.figure.Figure at 0x2b0f34b9a90>"
      ]
     },
     "metadata": {},
     "output_type": "display_data"
    }
   ],
   "source": [
    "import matplotlib.pyplot as plt\n",
    "%matplotlib inline\n",
    "\n",
    "plt.plot(x_train,y_train,'bo')"
   ]
  },
  {
   "cell_type": "code",
   "execution_count": 5,
   "metadata": {
    "collapsed": true
   },
   "outputs": [],
   "source": [
    "x_train=torch.from_numpy(x_train)\n",
    "y_train=torch.from_numpy(y_train)\n",
    "\n",
    "w=Variable(torch.randn(1),requires_grad=True)\n",
    "b=Variable(torch.zeros(1),requires_grad=True)"
   ]
  },
  {
   "cell_type": "code",
   "execution_count": 8,
   "metadata": {
    "collapsed": true
   },
   "outputs": [],
   "source": [
    "x_train=Variable(x_train)\n",
    "y_train=Variable(y_train)\n",
    "\n",
    "def linear_model(x):\n",
    "    return x*w+b"
   ]
  },
  {
   "cell_type": "code",
   "execution_count": 12,
   "metadata": {},
   "outputs": [],
   "source": [
    "y=linear_model(x_train)"
   ]
  },
  {
   "cell_type": "code",
   "execution_count": 13,
   "metadata": {},
   "outputs": [
    {
     "data": {
      "text/plain": [
       "<matplotlib.legend.Legend at 0x2b0f35f9438>"
      ]
     },
     "execution_count": 13,
     "metadata": {},
     "output_type": "execute_result"
    },
    {
     "data": {
      "image/png": "[encoded data removed]",
      "text/plain": [
       "<matplotlib.figure.Figure at 0x2b0f3849b70>"
      ]
     },
     "metadata": {},
     "output_type": "display_data"
    }
   ],
   "source": [
    "plt.plot(x_train.data.numpy(),y_train.data.numpy(),'bo',label='real')\n",
    "plt.plot(x_train.data.numpy(),y.data.numpy(),'ro',label='estimated')\n",
    "plt.legend()"
   ]
  },
  {
   "cell_type": "code",
   "execution_count": 16,
   "metadata": {
    "collapsed": true
   },
   "outputs": [],
   "source": [
    "def get_loss(y,y_train):\n",
    "    return torch.mean((y-y_train)**2)\n",
    "\n",
    "loss=get_loss(y,y_train)"
   ]
  },
  {
   "cell_type": "code",
   "execution_count": 17,
   "metadata": {},
   "outputs": [
    {
     "name": "stdout",
     "output_type": "stream",
     "text": [
      "tensor(10.2335, grad_fn=<MeanBackward1>)\n"
     ]
    }
   ],
   "source": [
    "print(loss)"
   ]
  },
  {
   "cell_type": "code",
   "execution_count": 18,
   "metadata": {
    "collapsed": true
   },
   "outputs": [],
   "source": [
    "loss.backward()"
   ]
  },
  {
   "cell_type": "code",
   "execution_count": 20,
   "metadata": {},
   "outputs": [
    {
     "name": "stdout",
     "output_type": "stream",
     "text": [
      "tensor([-41.1289])\n",
      "tensor([-6.0890])\n"
     ]
    }
   ],
   "source": [
    "print(w.grad)\n",
    "print(b.grad)"
   ]
  },
  {
   "cell_type": "code",
   "execution_count": 21,
   "metadata": {
    "collapsed": true
   },
   "outputs": [],
   "source": [
    "w.data=w.data-1e-2*w.grad.data\n",
    "b.data=b.data-1e-2*b.grad.data"
   ]
  },
  {
   "cell_type": "code",
   "execution_count": 22,
   "metadata": {},
   "outputs": [
    {
     "data": {
      "text/plain": [
       "<matplotlib.legend.Legend at 0x2b0f3b31940>"
      ]
     },
     "execution_count": 22,
     "metadata": {},
     "output_type": "execute_result"
    },
    {
     "data": {
      "image/png": "[encoded data removed]",
      "text/plain": [
       "<matplotlib.figure.Figure at 0x2b0f38b4048>"
      ]
     },
     "metadata": {},
     "output_type": "display_data"
    }
   ],
   "source": [
    "y=linear_model(x_train)\n",
    "plt.plot(x_train.data.numpy(),y_train.data.numpy(),'bo',label='real')\n",
    "plt.plot(x_train.data.numpy(),y.data.numpy(),'ro',label='estimated')\n",
    "plt.legend()"
   ]
  },
  {
   "cell_type": "code",
   "execution_count": 24,
   "metadata": {},
   "outputs": [
    {
     "name": "stdout",
     "output_type": "stream",
     "text": [
      "epoch:0,loss:0.23218491673469543\n",
      "epoch:1,loss:0.2285148650407791\n",
      "epoch:2,loss:0.22814729809761047\n",
      "epoch:3,loss:0.2278423011302948\n",
      "epoch:4,loss:0.22753994166851044\n",
      "epoch:5,loss:0.22723926603794098\n",
      "epoch:6,loss:0.2269400656223297\n",
      "epoch:7,loss:0.2266424000263214\n",
      "epoch:8,loss:0.22634625434875488\n",
      "epoch:9,loss:0.2260516732931137\n"
     ]
    }
   ],
   "source": [
    "for e in range(10):\n",
    "    y=linear_model(x_train)\n",
    "    loss=get_loss(y,y_train)\n",
    "    \n",
    "    w.grad.zero_()\n",
    "    b.grad.zero_()\n",
    "    loss.backward()\n",
    "    \n",
    "    w.data=w.data-1e-2*w.grad.data\n",
    "    b.data=b.data-1e-2*b.grad.data\n",
    "    \n",
    "    print('epoch:{},loss:{}'.format(e,loss.data))"
   ]
  },
  {
   "cell_type": "code",
   "execution_count": 25,
   "metadata": {},
   "outputs": [
    {
     "data": {
      "text/plain": [
       "<matplotlib.legend.Legend at 0x2b0f3abbfd0>"
      ]
     },
     "execution_count": 25,
     "metadata": {},
     "output_type": "execute_result"
    },
    {
     "data": {
      "image/png": "[encoded data removed]",
      "text/plain": [
       "<matplotlib.figure.Figure at 0x2b0f3b49ba8>"
      ]
     },
     "metadata": {},
     "output_type": "display_data"
    }
   ],
   "source": [
    "y=linear_model(x_train)\n",
    "plt.plot(x_train.data.numpy(),y_train.data.numpy(),'bo',label='real')\n",
    "plt.plot(x_train.data.numpy(),y.data.numpy(),'ro',label='estimated')\n",
    "plt.legend()"
   ]
  },
  {
   "cell_type": "markdown",
   "metadata": {},
   "source": [
    "多项式回归"
   ]
  },
  {
   "cell_type": "code",
   "execution_count": 27,
   "metadata": {},
   "outputs": [
    {
     "name": "stdout",
     "output_type": "stream",
     "text": [
      "y = 0.90+0.50 * x + 3.00 * x^2 + 2.40 * x^3\n"
     ]
    }
   ],
   "source": [
    "w_target=np.array([0.5,3,2.4])\n",
    "b_target=np.array([0.9])\n",
    "\n",
    "fes='y = {:.2f}+{:.2f} * x + {:.2f} * x^2 + {:.2f} * x^3'.format(\n",
    "    b_target[0],w_target[0],w_target[1],w_target[2])\n",
    "print(fes)"
   ]
  },
  {
   "cell_type": "code",
   "execution_count": 28,
   "metadata": {},
   "outputs": [
    {
     "data": {
      "text/plain": [
       "<matplotlib.legend.Legend at 0x2b0f3b554e0>"
      ]
     },
     "execution_count": 28,
     "metadata": {},
     "output_type": "execute_result"
    },
    {
     "data": {
      "image/png": "[encoded data removed]",
      "text/plain": [
       "<matplotlib.figure.Figure at 0x2b0f3b556d8>"
      ]
     },
     "metadata": {},
     "output_type": "display_data"
    }
   ],
   "source": [
    "x_sample=np.arange(-3,3.1,0.1)\n",
    "y_sample=b_target[0] + w_target[0]*x_sample+ w_target[0]*x_sample**2 + w_target[0]*x_sample**3\n",
    "\n",
    "plt.plot(x_sample,y_sample,label='real cure')\n",
    "plt.legend()"
   ]
  },
  {
   "cell_type": "code",
   "execution_count": 31,
   "metadata": {},
   "outputs": [
    {
     "name": "stdout",
     "output_type": "stream",
     "text": [
      "[-3.00000000e+00 -2.90000000e+00 -2.80000000e+00 -2.70000000e+00\n",
      " -2.60000000e+00 -2.50000000e+00 -2.40000000e+00 -2.30000000e+00\n",
      " -2.20000000e+00 -2.10000000e+00 -2.00000000e+00 -1.90000000e+00\n",
      " -1.80000000e+00 -1.70000000e+00 -1.60000000e+00 -1.50000000e+00\n",
      " -1.40000000e+00 -1.30000000e+00 -1.20000000e+00 -1.10000000e+00\n",
      " -1.00000000e+00 -9.00000000e-01 -8.00000000e-01 -7.00000000e-01\n",
      " -6.00000000e-01 -5.00000000e-01 -4.00000000e-01 -3.00000000e-01\n",
      " -2.00000000e-01 -1.00000000e-01  2.66453526e-15  1.00000000e-01\n",
      "  2.00000000e-01  3.00000000e-01  4.00000000e-01  5.00000000e-01\n",
      "  6.00000000e-01  7.00000000e-01  8.00000000e-01  9.00000000e-01\n",
      "  1.00000000e+00  1.10000000e+00  1.20000000e+00  1.30000000e+00\n",
      "  1.40000000e+00  1.50000000e+00  1.60000000e+00  1.70000000e+00\n",
      "  1.80000000e+00  1.90000000e+00  2.00000000e+00  2.10000000e+00\n",
      "  2.20000000e+00  2.30000000e+00  2.40000000e+00  2.50000000e+00\n",
      "  2.60000000e+00  2.70000000e+00  2.80000000e+00  2.90000000e+00\n",
      "  3.00000000e+00]\n",
      "(61,)\n",
      "--------------------------------------------------\n",
      "[-9.60000e+00 -8.53950e+00 -7.55600e+00 -6.64650e+00 -5.80800e+00\n",
      " -5.03750e+00 -4.33200e+00 -3.68850e+00 -3.10400e+00 -2.57550e+00\n",
      " -2.10000e+00 -1.67450e+00 -1.29600e+00 -9.61500e-01 -6.68000e-01\n",
      " -4.12500e-01 -1.92000e-01 -3.50000e-03  1.56000e-01  2.89500e-01\n",
      "  4.00000e-01  4.90500e-01  5.64000e-01  6.23500e-01  6.72000e-01\n",
      "  7.12500e-01  7.48000e-01  7.81500e-01  8.16000e-01  8.54500e-01\n",
      "  9.00000e-01  9.55500e-01  1.02400e+00  1.10850e+00  1.21200e+00\n",
      "  1.33750e+00  1.48800e+00  1.66650e+00  1.87600e+00  2.11950e+00\n",
      "  2.40000e+00  2.72050e+00  3.08400e+00  3.49350e+00  3.95200e+00\n",
      "  4.46250e+00  5.02800e+00  5.65150e+00  6.33600e+00  7.08450e+00\n",
      "  7.90000e+00  8.78550e+00  9.74400e+00  1.07785e+01  1.18920e+01\n",
      "  1.30875e+01  1.43680e+01  1.57365e+01  1.71960e+01  1.87495e+01\n",
      "  2.04000e+01]\n",
      "(61,)\n"
     ]
    }
   ],
   "source": [
    "print(x_sample)\n",
    "print(x_sample.shape)\n",
    "print('-'*50)\n",
    "print(y_sample)\n",
    "print(y_sample.shape)"
   ]
  },
  {
   "cell_type": "code",
   "execution_count": 36,
   "metadata": {},
   "outputs": [
    {
     "name": "stdout",
     "output_type": "stream",
     "text": [
      "(61, 3)\n",
      "[[-3.00000000e+00  9.00000000e+00 -2.70000000e+01]\n",
      " [-2.90000000e+00  8.41000000e+00 -2.43890000e+01]\n",
      " [-2.80000000e+00  7.84000000e+00 -2.19520000e+01]\n",
      " [-2.70000000e+00  7.29000000e+00 -1.96830000e+01]\n",
      " [-2.60000000e+00  6.76000000e+00 -1.75760000e+01]\n",
      " [-2.50000000e+00  6.25000000e+00 -1.56250000e+01]\n",
      " [-2.40000000e+00  5.76000000e+00 -1.38240000e+01]\n",
      " [-2.30000000e+00  5.29000000e+00 -1.21670000e+01]\n",
      " [-2.20000000e+00  4.84000000e+00 -1.06480000e+01]\n",
      " [-2.10000000e+00  4.41000000e+00 -9.26100000e+00]\n",
      " [-2.00000000e+00  4.00000000e+00 -8.00000000e+00]\n",
      " [-1.90000000e+00  3.61000000e+00 -6.85900000e+00]\n",
      " [-1.80000000e+00  3.24000000e+00 -5.83200000e+00]\n",
      " [-1.70000000e+00  2.89000000e+00 -4.91300000e+00]\n",
      " [-1.60000000e+00  2.56000000e+00 -4.09600000e+00]\n",
      " [-1.50000000e+00  2.25000000e+00 -3.37500000e+00]\n",
      " [-1.40000000e+00  1.96000000e+00 -2.74400000e+00]\n",
      " [-1.30000000e+00  1.69000000e+00 -2.19700000e+00]\n",
      " [-1.20000000e+00  1.44000000e+00 -1.72800000e+00]\n",
      " [-1.10000000e+00  1.21000000e+00 -1.33100000e+00]\n",
      " [-1.00000000e+00  1.00000000e+00 -1.00000000e+00]\n",
      " [-9.00000000e-01  8.10000000e-01 -7.29000000e-01]\n",
      " [-8.00000000e-01  6.40000000e-01 -5.12000000e-01]\n",
      " [-7.00000000e-01  4.90000000e-01 -3.43000000e-01]\n",
      " [-6.00000000e-01  3.60000000e-01 -2.16000000e-01]\n",
      " [-5.00000000e-01  2.50000000e-01 -1.25000000e-01]\n",
      " [-4.00000000e-01  1.60000000e-01 -6.40000000e-02]\n",
      " [-3.00000000e-01  9.00000000e-02 -2.70000000e-02]\n",
      " [-2.00000000e-01  4.00000000e-02 -8.00000000e-03]\n",
      " [-1.00000000e-01  1.00000000e-02 -1.00000000e-03]\n",
      " [ 2.66453526e-15  7.09974815e-30  1.89175293e-44]\n",
      " [ 1.00000000e-01  1.00000000e-02  1.00000000e-03]\n",
      " [ 2.00000000e-01  4.00000000e-02  8.00000000e-03]\n",
      " [ 3.00000000e-01  9.00000000e-02  2.70000000e-02]\n",
      " [ 4.00000000e-01  1.60000000e-01  6.40000000e-02]\n",
      " [ 5.00000000e-01  2.50000000e-01  1.25000000e-01]\n",
      " [ 6.00000000e-01  3.60000000e-01  2.16000000e-01]\n",
      " [ 7.00000000e-01  4.90000000e-01  3.43000000e-01]\n",
      " [ 8.00000000e-01  6.40000000e-01  5.12000000e-01]\n",
      " [ 9.00000000e-01  8.10000000e-01  7.29000000e-01]\n",
      " [ 1.00000000e+00  1.00000000e+00  1.00000000e+00]\n",
      " [ 1.10000000e+00  1.21000000e+00  1.33100000e+00]\n",
      " [ 1.20000000e+00  1.44000000e+00  1.72800000e+00]\n",
      " [ 1.30000000e+00  1.69000000e+00  2.19700000e+00]\n",
      " [ 1.40000000e+00  1.96000000e+00  2.74400000e+00]\n",
      " [ 1.50000000e+00  2.25000000e+00  3.37500000e+00]\n",
      " [ 1.60000000e+00  2.56000000e+00  4.09600000e+00]\n",
      " [ 1.70000000e+00  2.89000000e+00  4.91300000e+00]\n",
      " [ 1.80000000e+00  3.24000000e+00  5.83200000e+00]\n",
      " [ 1.90000000e+00  3.61000000e+00  6.85900000e+00]\n",
      " [ 2.00000000e+00  4.00000000e+00  8.00000000e+00]\n",
      " [ 2.10000000e+00  4.41000000e+00  9.26100000e+00]\n",
      " [ 2.20000000e+00  4.84000000e+00  1.06480000e+01]\n",
      " [ 2.30000000e+00  5.29000000e+00  1.21670000e+01]\n",
      " [ 2.40000000e+00  5.76000000e+00  1.38240000e+01]\n",
      " [ 2.50000000e+00  6.25000000e+00  1.56250000e+01]\n",
      " [ 2.60000000e+00  6.76000000e+00  1.75760000e+01]\n",
      " [ 2.70000000e+00  7.29000000e+00  1.96830000e+01]\n",
      " [ 2.80000000e+00  7.84000000e+00  2.19520000e+01]\n",
      " [ 2.90000000e+00  8.41000000e+00  2.43890000e+01]\n",
      " [ 3.00000000e+00  9.00000000e+00  2.70000000e+01]]\n"
     ]
    }
   ],
   "source": [
    "# 沿着某一列插入新的一列数据\n",
    "x_train=np.stack([x_sample ** i for i in range(1,4)],axis=1)\n",
    "print(x_train.shape)\n",
    "print(x_train)\n",
    "x_train=torch.from_numpy(x_train).float()"
   ]
  },
  {
   "cell_type": "code",
   "execution_count": 37,
   "metadata": {},
   "outputs": [
    {
     "name": "stdout",
     "output_type": "stream",
     "text": [
      "torch.Size([61, 1])\n"
     ]
    }
   ],
   "source": [
    "y_train=torch.from_numpy(y_sample).float().unsqueeze(1)\n",
    "print(y_train.shape)"
   ]
  },
  {
   "cell_type": "code",
   "execution_count": 38,
   "metadata": {
    "collapsed": true
   },
   "outputs": [],
   "source": [
    "# 定义参数和模型\n",
    "w = Variable(torch.randn(3, 1), requires_grad=True)\n",
    "b = Variable(torch.zeros(1), requires_grad=True)\n",
    "\n",
    "# 将 x 和 y 转换成 Variable\n",
    "x_train = Variable(x_train)\n",
    "y_train = Variable(y_train)\n",
    "\n",
    "def multi_linear(x):\n",
    "    return torch.mm(x, w) + b"
   ]
  },
  {
   "cell_type": "code",
   "execution_count": 39,
   "metadata": {},
   "outputs": [
    {
     "data": {
      "text/plain": [
       "<matplotlib.legend.Legend at 0x2b0f0271f28>"
      ]
     },
     "execution_count": 39,
     "metadata": {},
     "output_type": "execute_result"
    },
    {
     "data": {
      "image/png": "[encoded data removed]",
      "text/plain": [
       "<matplotlib.figure.Figure at 0x2b0f3893b70>"
      ]
     },
     "metadata": {},
     "output_type": "display_data"
    }
   ],
   "source": [
    "# 画出更新之前的模型\n",
    "y_pred = multi_linear(x_train)\n",
    "\n",
    "plt.plot(x_train.data.numpy()[:, 0], y_pred.data.numpy(), label='fitting curve', color='r')\n",
    "plt.plot(x_train.data.numpy()[:, 0], y_sample, label='real curve', color='b')\n",
    "plt.legend()"
   ]
  },
  {
   "cell_type": "code",
   "execution_count": 40,
   "metadata": {},
   "outputs": [
    {
     "name": "stdout",
     "output_type": "stream",
     "text": [
      "tensor(154.2059, grad_fn=<MeanBackward1>)\n"
     ]
    }
   ],
   "source": [
    "# 计算误差，这里的误差和一元的线性模型的误差是相同的，前面已经定义过了 get_loss\n",
    "loss = get_loss(y_pred, y_train)\n",
    "print(loss)"
   ]
  },
  {
   "cell_type": "code",
   "execution_count": 41,
   "metadata": {
    "collapsed": true
   },
   "outputs": [],
   "source": [
    "# 自动求导\n",
    "loss.backward()"
   ]
  },
  {
   "cell_type": "code",
   "execution_count": 42,
   "metadata": {},
   "outputs": [
    {
     "name": "stdout",
     "output_type": "stream",
     "text": [
      "tensor([[ -40.3025],\n",
      "        [   2.9368],\n",
      "        [-265.6321]])\n",
      "tensor([-0.2731])\n"
     ]
    }
   ],
   "source": [
    "\n",
    "# 查看一下 w 和 b 的梯度\n",
    "print(w.grad)\n",
    "print(b.grad)"
   ]
  },
  {
   "cell_type": "code",
   "execution_count": 43,
   "metadata": {
    "collapsed": true
   },
   "outputs": [],
   "source": [
    "# 更新一下参数\n",
    "w.data = w.data - 0.001 * w.grad.data\n",
    "b.data = b.data - 0.001 * b.grad.data"
   ]
  },
  {
   "cell_type": "code",
   "execution_count": 44,
   "metadata": {},
   "outputs": [
    {
     "data": {
      "text/plain": [
       "<matplotlib.legend.Legend at 0x2b0f0365128>"
      ]
     },
     "execution_count": 44,
     "metadata": {},
     "output_type": "execute_result"
    },
    {
     "data": {
      "image/png": "[encoded data removed]",
      "text/plain": [
       "<matplotlib.figure.Figure at 0x2b0f02b0d68>"
      ]
     },
     "metadata": {},
     "output_type": "display_data"
    }
   ],
   "source": [
    "# 画出更新一次之后的模型\n",
    "y_pred = multi_linear(x_train)\n",
    "\n",
    "plt.plot(x_train.data.numpy()[:, 0], y_pred.data.numpy(), label='fitting curve', color='r')\n",
    "plt.plot(x_train.data.numpy()[:, 0], y_sample, label='real curve', color='b')\n",
    "plt.legend()"
   ]
  },
  {
   "cell_type": "code",
   "execution_count": 46,
   "metadata": {},
   "outputs": [
    {
     "name": "stdout",
     "output_type": "stream",
     "text": [
      "epoch 20, Loss: 0.35950\n",
      "epoch 40, Loss: 0.34281\n",
      "epoch 60, Loss: 0.33013\n",
      "epoch 80, Loss: 0.31869\n",
      "epoch 100, Loss: 0.30783\n"
     ]
    }
   ],
   "source": [
    "# 进行 100 次参数更新\n",
    "for e in range(100):\n",
    "    y_pred = multi_linear(x_train)\n",
    "    loss = get_loss(y_pred, y_train)\n",
    "    \n",
    "    w.grad.data.zero_()\n",
    "    b.grad.data.zero_()\n",
    "    loss.backward()\n",
    "    \n",
    "    # 更新参数\n",
    "    w.data = w.data - 0.001 * w.grad.data\n",
    "    b.data = b.data - 0.001 * b.grad.data\n",
    "    if (e + 1) % 20 == 0:\n",
    "        print('epoch {}, Loss: {:.5f}'.format(e+1, loss.data))"
   ]
  },
  {
   "cell_type": "code",
   "execution_count": 47,
   "metadata": {},
   "outputs": [
    {
     "data": {
      "text/plain": [
       "<matplotlib.legend.Legend at 0x2b0f3d6b7f0>"
      ]
     },
     "execution_count": 47,
     "metadata": {},
     "output_type": "execute_result"
    },
    {
     "data": {
      "image/png": "[encoded data removed]",
      "text/plain": [
       "<matplotlib.figure.Figure at 0x2b0f395ceb8>"
      ]
     },
     "metadata": {},
     "output_type": "display_data"
    }
   ],
   "source": [
    "# 画出更新之后的结果\n",
    "y_pred = multi_linear(x_train)\n",
    "\n",
    "plt.plot(x_train.data.numpy()[:, 0], y_pred.data.numpy(), label='fitting curve', color='r')\n",
    "plt.plot(x_train.data.numpy()[:, 0], y_sample, label='real curve', color='b')\n",
    "plt.legend()"
   ]
  },
  {
   "cell_type": "code",
   "execution_count": null,
   "metadata": {
    "collapsed": true
   },
   "outputs": [],
   "source": []
  }
 ],
 "metadata": {
  "kernelspec": {
   "display_name": "Python 3",
   "language": "python",
   "name": "python3"
  },
  "language_info": {
   "codemirror_mode": {
    "name": "ipython",
    "version": 3
   },
   "file_extension": ".py",
   "mimetype": "text/x-python",
   "name": "python",
   "nbconvert_exporter": "python",
   "pygments_lexer": "ipython3",
   "version": "3.6.1"
  }
 },
 "nbformat": 4,
 "nbformat_minor": 2
}
